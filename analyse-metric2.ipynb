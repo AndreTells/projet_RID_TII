{
 "cells": [
  {
   "cell_type": "markdown",
   "metadata": {},
   "source": [
    "# Generic Imports"
   ]
  },
  {
   "cell_type": "code",
   "execution_count": 1,
   "metadata": {},
   "outputs": [],
   "source": [
    "import pandas as pd\n",
    "import numpy as np"
   ]
  },
  {
   "cell_type": "markdown",
   "metadata": {},
   "source": [
    "# Preprocessing"
   ]
  },
  {
   "cell_type": "code",
   "execution_count": 2,
   "metadata": {},
   "outputs": [
    {
     "name": "stdout",
     "output_type": "stream",
     "text": [
      "player.... complete\n",
      "type.... complete\n",
      "play_pattern.... complete\n",
      "possession_team.... complete\n",
      "position.... complete\n",
      "location.... complete\n",
      "under_pressure.... complete\n",
      "counterpress.... complete\n",
      "off_camera.... complete\n",
      "out.... complete\n",
      "carry.... complete\n",
      "ball_receipt.... complete\n",
      "shot.... complete\n",
      "dribble.... complete\n",
      "pass.... complete\n"
     ]
    }
   ],
   "source": [
    "from preprocessing import event_preprocessing\n",
    "from preprocessing import drop_unprocessed \n",
    "\n",
    "df = pd.read_json('data/15946.json')\n",
    "df = event_preprocessing(df)\n",
    "df = drop_unprocessed(df)"
   ]
  },
  {
   "cell_type": "markdown",
   "metadata": {},
   "source": [
    "# Metric 2"
   ]
  },
  {
   "cell_type": "markdown",
   "metadata": {},
   "source": [
    "## Preparing data for training model"
   ]
  },
  {
   "cell_type": "code",
   "execution_count": 3,
   "metadata": {},
   "outputs": [],
   "source": [
    "df2_columns = [\"type\",\"play_pattern\",\"possession_team\",\"position\",\"under_pressure\",\"counterpress\",\"out\",\"location_x\",\"location_y\",\"shot_outcome\"]\n",
    "df2 = df[df['location_available']==True][df2_columns].reset_index()\n",
    "df2 = df2.drop(columns=['index'])"
   ]
  },
  {
   "cell_type": "code",
   "execution_count": 4,
   "metadata": {},
   "outputs": [
    {
     "name": "stdout",
     "output_type": "stream",
     "text": [
      "<class 'pandas.core.frame.DataFrame'>\n",
      "RangeIndex: 3741 entries, 0 to 3740\n",
      "Data columns (total 10 columns):\n",
      " #   Column           Non-Null Count  Dtype  \n",
      "---  ------           --------------  -----  \n",
      " 0   type             3741 non-null   object \n",
      " 1   play_pattern     3741 non-null   object \n",
      " 2   possession_team  3741 non-null   object \n",
      " 3   position         3741 non-null   object \n",
      " 4   under_pressure   3741 non-null   bool   \n",
      " 5   counterpress     3741 non-null   bool   \n",
      " 6   out              3741 non-null   bool   \n",
      " 7   location_x       3741 non-null   float64\n",
      " 8   location_y       3741 non-null   float64\n",
      " 9   shot_outcome     3741 non-null   object \n",
      "dtypes: bool(3), float64(2), object(5)\n",
      "memory usage: 215.7+ KB\n"
     ]
    }
   ],
   "source": [
    "df2.info()"
   ]
  },
  {
   "cell_type": "markdown",
   "metadata": {},
   "source": [
    "## preparing data for model"
   ]
  },
  {
   "cell_type": "code",
   "execution_count": 5,
   "metadata": {},
   "outputs": [],
   "source": [
    "# normalizing position data\n",
    "field_length = 120\n",
    "field_width = 80\n",
    "df2['location_x'] = df2['location_x']/field_length\n",
    "df2['location_y'] = df2['location_y']/field_width"
   ]
  },
  {
   "cell_type": "code",
   "execution_count": 6,
   "metadata": {},
   "outputs": [],
   "source": [
    "# creating dummies from categorical data\n",
    "df2 = pd.get_dummies(df2, columns=[\"type\",\"possession_team\",\"play_pattern\",\"position\"])"
   ]
  },
  {
   "cell_type": "code",
   "execution_count": 7,
   "metadata": {},
   "outputs": [],
   "source": [
    "# labeling when a goal is scored\n",
    "df2['scored'] = df2['shot_outcome'].apply(lambda x: True if x == 'Goal' else False)\n",
    "df2 = df2.drop(columns=['shot_outcome'])\n",
    "\n",
    "# what does it mean for goal to be conceded ???????????"
   ]
  },
  {
   "cell_type": "code",
   "execution_count": 8,
   "metadata": {},
   "outputs": [
    {
     "name": "stdout",
     "output_type": "stream",
     "text": [
      "3738\n",
      "<class 'pandas.core.frame.DataFrame'>\n",
      "RangeIndex: 3738 entries, 0 to 3737\n",
      "Data columns (total 52 columns):\n",
      " #   Column                                Non-Null Count  Dtype  \n",
      "---  ------                                --------------  -----  \n",
      " 0   index                                 3738 non-null   int64  \n",
      " 1   under_pressure_0                      3738 non-null   bool   \n",
      " 2   counterpress_0                        3738 non-null   bool   \n",
      " 3   out_0                                 3738 non-null   bool   \n",
      " 4   location_x_0                          3738 non-null   float64\n",
      " 5   location_y_0                          3738 non-null   float64\n",
      " 6   type_Ball Receipt*_0                  3738 non-null   uint8  \n",
      " 7   type_Ball Recovery_0                  3738 non-null   uint8  \n",
      " 8   type_Block_0                          3738 non-null   uint8  \n",
      " 9   type_Carry_0                          3738 non-null   uint8  \n",
      " 10  type_Clearance_0                      3738 non-null   uint8  \n",
      " 11  type_Dispossessed_0                   3738 non-null   uint8  \n",
      " 12  type_Dribble_0                        3738 non-null   uint8  \n",
      " 13  type_Dribbled Past_0                  3738 non-null   uint8  \n",
      " 14  type_Duel_0                           3738 non-null   uint8  \n",
      " 15  type_Error_0                          3738 non-null   uint8  \n",
      " 16  type_Foul Committed_0                 3738 non-null   uint8  \n",
      " 17  type_Foul Won_0                       3738 non-null   uint8  \n",
      " 18  type_Goal Keeper_0                    3738 non-null   uint8  \n",
      " 19  type_Interception_0                   3738 non-null   uint8  \n",
      " 20  type_Miscontrol_0                     3738 non-null   uint8  \n",
      " 21  type_Pass_0                           3738 non-null   uint8  \n",
      " 22  type_Pressure_0                       3738 non-null   uint8  \n",
      " 23  type_Shot_0                           3738 non-null   uint8  \n",
      " 24  possession_team_Barcelona_0           3738 non-null   uint8  \n",
      " 25  possession_team_Deportivo Alavés_0    3738 non-null   uint8  \n",
      " 26  play_pattern_From Corner_0            3738 non-null   uint8  \n",
      " 27  play_pattern_From Counter_0           3738 non-null   uint8  \n",
      " 28  play_pattern_From Free Kick_0         3738 non-null   uint8  \n",
      " 29  play_pattern_From Goal Kick_0         3738 non-null   uint8  \n",
      " 30  play_pattern_From Keeper_0            3738 non-null   uint8  \n",
      " 31  play_pattern_From Kick Off_0          3738 non-null   uint8  \n",
      " 32  play_pattern_From Throw In_0          3738 non-null   uint8  \n",
      " 33  play_pattern_Regular Play_0           3738 non-null   uint8  \n",
      " 34  position_Center Defensive Midfield_0  3738 non-null   uint8  \n",
      " 35  position_Center Forward_0             3738 non-null   uint8  \n",
      " 36  position_Goalkeeper_0                 3738 non-null   uint8  \n",
      " 37  position_Left Back_0                  3738 non-null   uint8  \n",
      " 38  position_Left Center Back_0           3738 non-null   uint8  \n",
      " 39  position_Left Center Forward_0        3738 non-null   uint8  \n",
      " 40  position_Left Center Midfield_0       3738 non-null   uint8  \n",
      " 41  position_Left Defensive Midfield_0    3738 non-null   uint8  \n",
      " 42  position_Left Midfield_0              3738 non-null   uint8  \n",
      " 43  position_Left Wing_0                  3738 non-null   uint8  \n",
      " 44  position_Right Back_0                 3738 non-null   uint8  \n",
      " 45  position_Right Center Back_0          3738 non-null   uint8  \n",
      " 46  position_Right Center Forward_0       3738 non-null   uint8  \n",
      " 47  position_Right Center Midfield_0      3738 non-null   uint8  \n",
      " 48  position_Right Defensive Midfield_0   3738 non-null   uint8  \n",
      " 49  position_Right Midfield_0             3738 non-null   uint8  \n",
      " 50  position_Right Wing_0                 3738 non-null   uint8  \n",
      " 51  scored_0                              3738 non-null   bool   \n",
      "dtypes: bool(4), float64(2), int64(1), uint8(45)\n",
      "memory usage: 266.6 KB\n",
      "None\n",
      "3738\n",
      "<class 'pandas.core.frame.DataFrame'>\n",
      "RangeIndex: 3738 entries, 0 to 3737\n",
      "Data columns (total 52 columns):\n",
      " #   Column                                Non-Null Count  Dtype  \n",
      "---  ------                                --------------  -----  \n",
      " 0   index                                 3738 non-null   int64  \n",
      " 1   under_pressure_1                      3738 non-null   bool   \n",
      " 2   counterpress_1                        3738 non-null   bool   \n",
      " 3   out_1                                 3738 non-null   bool   \n",
      " 4   location_x_1                          3738 non-null   float64\n",
      " 5   location_y_1                          3738 non-null   float64\n",
      " 6   type_Ball Receipt*_1                  3738 non-null   uint8  \n",
      " 7   type_Ball Recovery_1                  3738 non-null   uint8  \n",
      " 8   type_Block_1                          3738 non-null   uint8  \n",
      " 9   type_Carry_1                          3738 non-null   uint8  \n",
      " 10  type_Clearance_1                      3738 non-null   uint8  \n",
      " 11  type_Dispossessed_1                   3738 non-null   uint8  \n",
      " 12  type_Dribble_1                        3738 non-null   uint8  \n",
      " 13  type_Dribbled Past_1                  3738 non-null   uint8  \n",
      " 14  type_Duel_1                           3738 non-null   uint8  \n",
      " 15  type_Error_1                          3738 non-null   uint8  \n",
      " 16  type_Foul Committed_1                 3738 non-null   uint8  \n",
      " 17  type_Foul Won_1                       3738 non-null   uint8  \n",
      " 18  type_Goal Keeper_1                    3738 non-null   uint8  \n",
      " 19  type_Interception_1                   3738 non-null   uint8  \n",
      " 20  type_Miscontrol_1                     3738 non-null   uint8  \n",
      " 21  type_Pass_1                           3738 non-null   uint8  \n",
      " 22  type_Pressure_1                       3738 non-null   uint8  \n",
      " 23  type_Shot_1                           3738 non-null   uint8  \n",
      " 24  possession_team_Barcelona_1           3738 non-null   uint8  \n",
      " 25  possession_team_Deportivo Alavés_1    3738 non-null   uint8  \n",
      " 26  play_pattern_From Corner_1            3738 non-null   uint8  \n",
      " 27  play_pattern_From Counter_1           3738 non-null   uint8  \n",
      " 28  play_pattern_From Free Kick_1         3738 non-null   uint8  \n",
      " 29  play_pattern_From Goal Kick_1         3738 non-null   uint8  \n",
      " 30  play_pattern_From Keeper_1            3738 non-null   uint8  \n",
      " 31  play_pattern_From Kick Off_1          3738 non-null   uint8  \n",
      " 32  play_pattern_From Throw In_1          3738 non-null   uint8  \n",
      " 33  play_pattern_Regular Play_1           3738 non-null   uint8  \n",
      " 34  position_Center Defensive Midfield_1  3738 non-null   uint8  \n",
      " 35  position_Center Forward_1             3738 non-null   uint8  \n",
      " 36  position_Goalkeeper_1                 3738 non-null   uint8  \n",
      " 37  position_Left Back_1                  3738 non-null   uint8  \n",
      " 38  position_Left Center Back_1           3738 non-null   uint8  \n",
      " 39  position_Left Center Forward_1        3738 non-null   uint8  \n",
      " 40  position_Left Center Midfield_1       3738 non-null   uint8  \n",
      " 41  position_Left Defensive Midfield_1    3738 non-null   uint8  \n",
      " 42  position_Left Midfield_1              3738 non-null   uint8  \n",
      " 43  position_Left Wing_1                  3738 non-null   uint8  \n",
      " 44  position_Right Back_1                 3738 non-null   uint8  \n",
      " 45  position_Right Center Back_1          3738 non-null   uint8  \n",
      " 46  position_Right Center Forward_1       3738 non-null   uint8  \n",
      " 47  position_Right Center Midfield_1      3738 non-null   uint8  \n",
      " 48  position_Right Defensive Midfield_1   3738 non-null   uint8  \n",
      " 49  position_Right Midfield_1             3738 non-null   uint8  \n",
      " 50  position_Right Wing_1                 3738 non-null   uint8  \n",
      " 51  scored_1                              3738 non-null   bool   \n",
      "dtypes: bool(4), float64(2), int64(1), uint8(45)\n",
      "memory usage: 266.6 KB\n",
      "None\n",
      "3738\n",
      "<class 'pandas.core.frame.DataFrame'>\n",
      "RangeIndex: 3738 entries, 0 to 3737\n",
      "Data columns (total 52 columns):\n",
      " #   Column                                Non-Null Count  Dtype  \n",
      "---  ------                                --------------  -----  \n",
      " 0   index                                 3738 non-null   int64  \n",
      " 1   under_pressure_2                      3738 non-null   bool   \n",
      " 2   counterpress_2                        3738 non-null   bool   \n",
      " 3   out_2                                 3738 non-null   bool   \n",
      " 4   location_x_2                          3738 non-null   float64\n",
      " 5   location_y_2                          3738 non-null   float64\n",
      " 6   type_Ball Receipt*_2                  3738 non-null   uint8  \n",
      " 7   type_Ball Recovery_2                  3738 non-null   uint8  \n",
      " 8   type_Block_2                          3738 non-null   uint8  \n",
      " 9   type_Carry_2                          3738 non-null   uint8  \n",
      " 10  type_Clearance_2                      3738 non-null   uint8  \n",
      " 11  type_Dispossessed_2                   3738 non-null   uint8  \n",
      " 12  type_Dribble_2                        3738 non-null   uint8  \n",
      " 13  type_Dribbled Past_2                  3738 non-null   uint8  \n",
      " 14  type_Duel_2                           3738 non-null   uint8  \n",
      " 15  type_Error_2                          3738 non-null   uint8  \n",
      " 16  type_Foul Committed_2                 3738 non-null   uint8  \n",
      " 17  type_Foul Won_2                       3738 non-null   uint8  \n",
      " 18  type_Goal Keeper_2                    3738 non-null   uint8  \n",
      " 19  type_Interception_2                   3738 non-null   uint8  \n",
      " 20  type_Miscontrol_2                     3738 non-null   uint8  \n",
      " 21  type_Pass_2                           3738 non-null   uint8  \n",
      " 22  type_Pressure_2                       3738 non-null   uint8  \n",
      " 23  type_Shot_2                           3738 non-null   uint8  \n",
      " 24  possession_team_Barcelona_2           3738 non-null   uint8  \n",
      " 25  possession_team_Deportivo Alavés_2    3738 non-null   uint8  \n",
      " 26  play_pattern_From Corner_2            3738 non-null   uint8  \n",
      " 27  play_pattern_From Counter_2           3738 non-null   uint8  \n",
      " 28  play_pattern_From Free Kick_2         3738 non-null   uint8  \n",
      " 29  play_pattern_From Goal Kick_2         3738 non-null   uint8  \n",
      " 30  play_pattern_From Keeper_2            3738 non-null   uint8  \n",
      " 31  play_pattern_From Kick Off_2          3738 non-null   uint8  \n",
      " 32  play_pattern_From Throw In_2          3738 non-null   uint8  \n",
      " 33  play_pattern_Regular Play_2           3738 non-null   uint8  \n",
      " 34  position_Center Defensive Midfield_2  3738 non-null   uint8  \n",
      " 35  position_Center Forward_2             3738 non-null   uint8  \n",
      " 36  position_Goalkeeper_2                 3738 non-null   uint8  \n",
      " 37  position_Left Back_2                  3738 non-null   uint8  \n",
      " 38  position_Left Center Back_2           3738 non-null   uint8  \n",
      " 39  position_Left Center Forward_2        3738 non-null   uint8  \n",
      " 40  position_Left Center Midfield_2       3738 non-null   uint8  \n",
      " 41  position_Left Defensive Midfield_2    3738 non-null   uint8  \n",
      " 42  position_Left Midfield_2              3738 non-null   uint8  \n",
      " 43  position_Left Wing_2                  3738 non-null   uint8  \n",
      " 44  position_Right Back_2                 3738 non-null   uint8  \n",
      " 45  position_Right Center Back_2          3738 non-null   uint8  \n",
      " 46  position_Right Center Forward_2       3738 non-null   uint8  \n",
      " 47  position_Right Center Midfield_2      3738 non-null   uint8  \n",
      " 48  position_Right Defensive Midfield_2   3738 non-null   uint8  \n",
      " 49  position_Right Midfield_2             3738 non-null   uint8  \n",
      " 50  position_Right Wing_2                 3738 non-null   uint8  \n",
      " 51  scored_2                              3738 non-null   bool   \n",
      "dtypes: bool(4), float64(2), int64(1), uint8(45)\n",
      "memory usage: 266.6 KB\n",
      "None\n"
     ]
    }
   ],
   "source": [
    "state_len = 3\n",
    "offset_df = []\n",
    "for i in range(state_len):\n",
    "    df2_ = df2[i:-(state_len-i)]\n",
    "    df2_ = df2_.rename(lambda x: x+f'_{i}',axis='columns').reset_index()\n",
    "    offset_df.append(df2_)\n",
    "    print(len(df2_))\n",
    "    print(df2_.info())\n",
    "\n",
    "df2 = offset_df[0]\n",
    "for df2_ in offset_df[1:]:\n",
    "    df2 = df2.merge(df2_,how='inner')"
   ]
  },
  {
   "cell_type": "code",
   "execution_count": 9,
   "metadata": {},
   "outputs": [
    {
     "name": "stdout",
     "output_type": "stream",
     "text": [
      "3746\n",
      "3736\n"
     ]
    }
   ],
   "source": [
    "# TODO: separate by team then join back up\n",
    "# setting up target\n",
    "predict_window = 10\n",
    "scored = list(df2['scored_0']) + ([False] * predict_window)\n",
    "print(len(scored))\n",
    "scored_window = list(map(lambda x: any(scored[x:x+predict_window]),range(0,len(scored)-predict_window)))\n",
    "print(len(scored_window))\n",
    "df2['scored_window'] = scored_window"
   ]
  },
  {
   "cell_type": "code",
   "execution_count": 10,
   "metadata": {},
   "outputs": [],
   "source": [
    "# changing True/False to 0/1\n",
    "df2.replace({False: 0, True: 1}, inplace = True)"
   ]
  },
  {
   "cell_type": "code",
   "execution_count": 11,
   "metadata": {},
   "outputs": [],
   "source": [
    "df2 = df2.drop(columns=['index'])"
   ]
  },
  {
   "cell_type": "code",
   "execution_count": 12,
   "metadata": {},
   "outputs": [],
   "source": [
    "X = df2.drop(columns=['scored_window']).to_numpy()\n",
    "Y = df2['scored_window'].to_numpy()"
   ]
  },
  {
   "cell_type": "code",
   "execution_count": 13,
   "metadata": {},
   "outputs": [
    {
     "name": "stdout",
     "output_type": "stream",
     "text": [
      "input shape: (3736, 153)\n",
      "output shape: (3736,)\n"
     ]
    }
   ],
   "source": [
    "print(f'input shape: {X.shape}')\n",
    "print(f'output shape: {Y.shape}')"
   ]
  },
  {
   "cell_type": "code",
   "execution_count": 14,
   "metadata": {},
   "outputs": [],
   "source": [
    "from sklearn.model_selection import train_test_split\n",
    "train_X, test_X, train_Y, test_Y = train_test_split(X,Y,test_size=0.25)"
   ]
  },
  {
   "cell_type": "markdown",
   "metadata": {},
   "source": [
    "## Training Model"
   ]
  },
  {
   "cell_type": "code",
   "execution_count": 15,
   "metadata": {},
   "outputs": [],
   "source": [
    "import xgboost as xgb"
   ]
  },
  {
   "cell_type": "code",
   "execution_count": 33,
   "metadata": {},
   "outputs": [
    {
     "name": "stdout",
     "output_type": "stream",
     "text": [
      "[0]\tvalidation_0-logloss:0.44324\n",
      "[1]\tvalidation_0-logloss:0.30546\n",
      "[2]\tvalidation_0-logloss:0.21911\n",
      "[3]\tvalidation_0-logloss:0.16160\n",
      "[4]\tvalidation_0-logloss:0.12221\n",
      "[5]\tvalidation_0-logloss:0.09479\n",
      "[6]\tvalidation_0-logloss:0.07556\n",
      "[7]\tvalidation_0-logloss:0.06220\n",
      "[8]\tvalidation_0-logloss:0.05244\n",
      "[9]\tvalidation_0-logloss:0.04559\n",
      "[10]\tvalidation_0-logloss:0.03984\n",
      "[11]\tvalidation_0-logloss:0.03557\n",
      "[12]\tvalidation_0-logloss:0.03261\n",
      "[13]\tvalidation_0-logloss:0.03040\n",
      "[14]\tvalidation_0-logloss:0.02806\n",
      "[15]\tvalidation_0-logloss:0.02677\n",
      "[16]\tvalidation_0-logloss:0.02532\n",
      "[17]\tvalidation_0-logloss:0.02436\n",
      "[18]\tvalidation_0-logloss:0.02361\n",
      "[19]\tvalidation_0-logloss:0.02307\n",
      "[20]\tvalidation_0-logloss:0.02284\n",
      "[21]\tvalidation_0-logloss:0.02233\n",
      "[22]\tvalidation_0-logloss:0.02216\n",
      "[23]\tvalidation_0-logloss:0.02178\n",
      "[24]\tvalidation_0-logloss:0.02109\n",
      "[25]\tvalidation_0-logloss:0.02086\n",
      "[26]\tvalidation_0-logloss:0.02039\n",
      "[27]\tvalidation_0-logloss:0.02021\n",
      "[28]\tvalidation_0-logloss:0.01996\n",
      "[29]\tvalidation_0-logloss:0.01963\n",
      "[30]\tvalidation_0-logloss:0.01947\n",
      "[31]\tvalidation_0-logloss:0.01912\n",
      "[32]\tvalidation_0-logloss:0.01864\n",
      "[33]\tvalidation_0-logloss:0.01843\n",
      "[34]\tvalidation_0-logloss:0.01829\n",
      "[35]\tvalidation_0-logloss:0.01842\n",
      "[36]\tvalidation_0-logloss:0.01828\n",
      "[37]\tvalidation_0-logloss:0.01796\n",
      "[38]\tvalidation_0-logloss:0.01797\n",
      "[39]\tvalidation_0-logloss:0.01762\n",
      "[40]\tvalidation_0-logloss:0.01753\n",
      "[41]\tvalidation_0-logloss:0.01739\n",
      "[42]\tvalidation_0-logloss:0.01723\n",
      "[43]\tvalidation_0-logloss:0.01708\n",
      "[44]\tvalidation_0-logloss:0.01675\n",
      "[45]\tvalidation_0-logloss:0.01653\n",
      "[46]\tvalidation_0-logloss:0.01659\n",
      "[47]\tvalidation_0-logloss:0.01638\n",
      "[48]\tvalidation_0-logloss:0.01639\n",
      "[49]\tvalidation_0-logloss:0.01636\n",
      "[50]\tvalidation_0-logloss:0.01633\n",
      "[51]\tvalidation_0-logloss:0.01626\n",
      "[52]\tvalidation_0-logloss:0.01620\n",
      "[53]\tvalidation_0-logloss:0.01616\n",
      "[54]\tvalidation_0-logloss:0.01613\n",
      "[55]\tvalidation_0-logloss:0.01607\n",
      "[56]\tvalidation_0-logloss:0.01583\n",
      "[57]\tvalidation_0-logloss:0.01594\n",
      "[58]\tvalidation_0-logloss:0.01589\n",
      "[59]\tvalidation_0-logloss:0.01565\n",
      "[60]\tvalidation_0-logloss:0.01551\n",
      "[61]\tvalidation_0-logloss:0.01545\n",
      "[62]\tvalidation_0-logloss:0.01545\n",
      "[63]\tvalidation_0-logloss:0.01559\n",
      "[64]\tvalidation_0-logloss:0.01554\n",
      "[65]\tvalidation_0-logloss:0.01565\n",
      "[66]\tvalidation_0-logloss:0.01575\n",
      "[67]\tvalidation_0-logloss:0.01555\n",
      "[68]\tvalidation_0-logloss:0.01541\n",
      "[69]\tvalidation_0-logloss:0.01551\n",
      "[70]\tvalidation_0-logloss:0.01562\n",
      "[71]\tvalidation_0-logloss:0.01556\n",
      "[72]\tvalidation_0-logloss:0.01558\n",
      "[73]\tvalidation_0-logloss:0.01553\n",
      "[74]\tvalidation_0-logloss:0.01548\n",
      "[75]\tvalidation_0-logloss:0.01544\n",
      "[76]\tvalidation_0-logloss:0.01535\n",
      "[77]\tvalidation_0-logloss:0.01548\n",
      "[78]\tvalidation_0-logloss:0.01555\n",
      "[79]\tvalidation_0-logloss:0.01555\n",
      "[80]\tvalidation_0-logloss:0.01550\n",
      "[81]\tvalidation_0-logloss:0.01546\n",
      "[82]\tvalidation_0-logloss:0.01542\n",
      "[83]\tvalidation_0-logloss:0.01534\n",
      "[84]\tvalidation_0-logloss:0.01535\n",
      "[85]\tvalidation_0-logloss:0.01546\n",
      "[86]\tvalidation_0-logloss:0.01542\n",
      "[87]\tvalidation_0-logloss:0.01551\n",
      "[88]\tvalidation_0-logloss:0.01537\n",
      "[89]\tvalidation_0-logloss:0.01543\n",
      "[90]\tvalidation_0-logloss:0.01546\n",
      "[91]\tvalidation_0-logloss:0.01547\n",
      "[92]\tvalidation_0-logloss:0.01543\n",
      "[93]\tvalidation_0-logloss:0.01543\n"
     ]
    },
    {
     "data": {
      "text/html": [
       "<style>#sk-container-id-2 {color: black;background-color: white;}#sk-container-id-2 pre{padding: 0;}#sk-container-id-2 div.sk-toggleable {background-color: white;}#sk-container-id-2 label.sk-toggleable__label {cursor: pointer;display: block;width: 100%;margin-bottom: 0;padding: 0.3em;box-sizing: border-box;text-align: center;}#sk-container-id-2 label.sk-toggleable__label-arrow:before {content: \"▸\";float: left;margin-right: 0.25em;color: #696969;}#sk-container-id-2 label.sk-toggleable__label-arrow:hover:before {color: black;}#sk-container-id-2 div.sk-estimator:hover label.sk-toggleable__label-arrow:before {color: black;}#sk-container-id-2 div.sk-toggleable__content {max-height: 0;max-width: 0;overflow: hidden;text-align: left;background-color: #f0f8ff;}#sk-container-id-2 div.sk-toggleable__content pre {margin: 0.2em;color: black;border-radius: 0.25em;background-color: #f0f8ff;}#sk-container-id-2 input.sk-toggleable__control:checked~div.sk-toggleable__content {max-height: 200px;max-width: 100%;overflow: auto;}#sk-container-id-2 input.sk-toggleable__control:checked~label.sk-toggleable__label-arrow:before {content: \"▾\";}#sk-container-id-2 div.sk-estimator input.sk-toggleable__control:checked~label.sk-toggleable__label {background-color: #d4ebff;}#sk-container-id-2 div.sk-label input.sk-toggleable__control:checked~label.sk-toggleable__label {background-color: #d4ebff;}#sk-container-id-2 input.sk-hidden--visually {border: 0;clip: rect(1px 1px 1px 1px);clip: rect(1px, 1px, 1px, 1px);height: 1px;margin: -1px;overflow: hidden;padding: 0;position: absolute;width: 1px;}#sk-container-id-2 div.sk-estimator {font-family: monospace;background-color: #f0f8ff;border: 1px dotted black;border-radius: 0.25em;box-sizing: border-box;margin-bottom: 0.5em;}#sk-container-id-2 div.sk-estimator:hover {background-color: #d4ebff;}#sk-container-id-2 div.sk-parallel-item::after {content: \"\";width: 100%;border-bottom: 1px solid gray;flex-grow: 1;}#sk-container-id-2 div.sk-label:hover label.sk-toggleable__label {background-color: #d4ebff;}#sk-container-id-2 div.sk-serial::before {content: \"\";position: absolute;border-left: 1px solid gray;box-sizing: border-box;top: 0;bottom: 0;left: 50%;z-index: 0;}#sk-container-id-2 div.sk-serial {display: flex;flex-direction: column;align-items: center;background-color: white;padding-right: 0.2em;padding-left: 0.2em;position: relative;}#sk-container-id-2 div.sk-item {position: relative;z-index: 1;}#sk-container-id-2 div.sk-parallel {display: flex;align-items: stretch;justify-content: center;background-color: white;position: relative;}#sk-container-id-2 div.sk-item::before, #sk-container-id-2 div.sk-parallel-item::before {content: \"\";position: absolute;border-left: 1px solid gray;box-sizing: border-box;top: 0;bottom: 0;left: 50%;z-index: -1;}#sk-container-id-2 div.sk-parallel-item {display: flex;flex-direction: column;z-index: 1;position: relative;background-color: white;}#sk-container-id-2 div.sk-parallel-item:first-child::after {align-self: flex-end;width: 50%;}#sk-container-id-2 div.sk-parallel-item:last-child::after {align-self: flex-start;width: 50%;}#sk-container-id-2 div.sk-parallel-item:only-child::after {width: 0;}#sk-container-id-2 div.sk-dashed-wrapped {border: 1px dashed gray;margin: 0 0.4em 0.5em 0.4em;box-sizing: border-box;padding-bottom: 0.4em;background-color: white;}#sk-container-id-2 div.sk-label label {font-family: monospace;font-weight: bold;display: inline-block;line-height: 1.2em;}#sk-container-id-2 div.sk-label-container {text-align: center;}#sk-container-id-2 div.sk-container {/* jupyter's `normalize.less` sets `[hidden] { display: none; }` but bootstrap.min.css set `[hidden] { display: none !important; }` so we also need the `!important` here to be able to override the default hidden behavior on the sphinx rendered scikit-learn.org. See: https://github.com/scikit-learn/scikit-learn/issues/21755 */display: inline-block !important;position: relative;}#sk-container-id-2 div.sk-text-repr-fallback {display: none;}</style><div id=\"sk-container-id-2\" class=\"sk-top-container\"><div class=\"sk-text-repr-fallback\"><pre>XGBClassifier(base_score=None, booster=None, callbacks=None,\n",
       "              colsample_bylevel=None, colsample_bynode=None,\n",
       "              colsample_bytree=None, early_stopping_rounds=10,\n",
       "              enable_categorical=False, eval_metric=None, feature_types=None,\n",
       "              gamma=None, gpu_id=None, grow_policy=None, importance_type=None,\n",
       "              interaction_constraints=None, learning_rate=None, max_bin=None,\n",
       "              max_cat_threshold=None, max_cat_to_onehot=None,\n",
       "              max_delta_step=None, max_depth=None, max_leaves=None,\n",
       "              min_child_weight=None, missing=nan, monotone_constraints=None,\n",
       "              n_estimators=100, n_jobs=None, num_parallel_tree=None,\n",
       "              predictor=None, random_state=None, ...)</pre><b>In a Jupyter environment, please rerun this cell to show the HTML representation or trust the notebook. <br />On GitHub, the HTML representation is unable to render, please try loading this page with nbviewer.org.</b></div><div class=\"sk-container\" hidden><div class=\"sk-item\"><div class=\"sk-estimator sk-toggleable\"><input class=\"sk-toggleable__control sk-hidden--visually\" id=\"sk-estimator-id-2\" type=\"checkbox\" checked><label for=\"sk-estimator-id-2\" class=\"sk-toggleable__label sk-toggleable__label-arrow\">XGBClassifier</label><div class=\"sk-toggleable__content\"><pre>XGBClassifier(base_score=None, booster=None, callbacks=None,\n",
       "              colsample_bylevel=None, colsample_bynode=None,\n",
       "              colsample_bytree=None, early_stopping_rounds=10,\n",
       "              enable_categorical=False, eval_metric=None, feature_types=None,\n",
       "              gamma=None, gpu_id=None, grow_policy=None, importance_type=None,\n",
       "              interaction_constraints=None, learning_rate=None, max_bin=None,\n",
       "              max_cat_threshold=None, max_cat_to_onehot=None,\n",
       "              max_delta_step=None, max_depth=None, max_leaves=None,\n",
       "              min_child_weight=None, missing=nan, monotone_constraints=None,\n",
       "              n_estimators=100, n_jobs=None, num_parallel_tree=None,\n",
       "              predictor=None, random_state=None, ...)</pre></div></div></div></div></div>"
      ],
      "text/plain": [
       "XGBClassifier(base_score=None, booster=None, callbacks=None,\n",
       "              colsample_bylevel=None, colsample_bynode=None,\n",
       "              colsample_bytree=None, early_stopping_rounds=10,\n",
       "              enable_categorical=False, eval_metric=None, feature_types=None,\n",
       "              gamma=None, gpu_id=None, grow_policy=None, importance_type=None,\n",
       "              interaction_constraints=None, learning_rate=None, max_bin=None,\n",
       "              max_cat_threshold=None, max_cat_to_onehot=None,\n",
       "              max_delta_step=None, max_depth=None, max_leaves=None,\n",
       "              min_child_weight=None, missing=nan, monotone_constraints=None,\n",
       "              n_estimators=100, n_jobs=None, num_parallel_tree=None,\n",
       "              predictor=None, random_state=None, ...)"
      ]
     },
     "execution_count": 33,
     "metadata": {},
     "output_type": "execute_result"
    }
   ],
   "source": [
    "# Use \"hist\" for constructing the trees, with early stopping enabled.\n",
    "clf = xgb.XGBClassifier(tree_method=\"hist\", early_stopping_rounds=10)\n",
    "# Fit the model, test sets are used for early stopping.\n",
    "clf.fit(train_X, train_Y, eval_set=[(test_X, test_Y)])"
   ]
  },
  {
   "cell_type": "code",
   "execution_count": 34,
   "metadata": {},
   "outputs": [
    {
     "data": {
      "text/plain": [
       "<AxesSubplot: title={'center': 'Feature importance'}, xlabel='F score', ylabel='Features'>"
      ]
     },
     "execution_count": 34,
     "metadata": {},
     "output_type": "execute_result"
    },
    {
     "data": {
      "image/png": "[encoded data removed]",
      "text/plain": [
       "<Figure size 640x480 with 1 Axes>"
      ]
     },
     "metadata": {},
     "output_type": "display_data"
    }
   ],
   "source": [
    "xgb.plot_importance(clf)"
   ]
  },
  {
   "cell_type": "code",
   "execution_count": 40,
   "metadata": {},
   "outputs": [
    {
     "data": {
      "text/plain": [
       "0.9957173447537473"
      ]
     },
     "execution_count": 40,
     "metadata": {},
     "output_type": "execute_result"
    }
   ],
   "source": [
    "from sklearn.metrics import accuracy_score\n",
    "from sklearn.metrics import confusion_matrix\n",
    "from sklearn.metrics import ConfusionMatrixDisplay\n",
    "predict_Y = clf.predict(test_X)\n",
    "accuracy_score(predict_Y, test_Y)"
   ]
  },
  {
   "cell_type": "code",
   "execution_count": 41,
   "metadata": {},
   "outputs": [
    {
     "data": {
      "text/plain": [
       "<sklearn.metrics._plot.confusion_matrix.ConfusionMatrixDisplay at 0x7efd969965d0>"
      ]
     },
     "execution_count": 41,
     "metadata": {},
     "output_type": "execute_result"
    },
    {
     "data": {
      "image/png": "[encoded data removed]",
      "text/plain": [
       "<Figure size 640x480 with 2 Axes>"
      ]
     },
     "metadata": {},
     "output_type": "display_data"
    }
   ],
   "source": [
    "confusion_matrix = confusion_matrix(test_Y, predict_Y)\n",
    "cm_display = ConfusionMatrixDisplay(confusion_matrix=confusion_matrix, display_labels=[0,1])\n",
    "\n",
    "cm_display.plot()"
   ]
  },
  {
   "cell_type": "markdown",
   "metadata": {},
   "source": [
    "There aren't that many goals in a game, joining values from other games is necessary"
   ]
  }
 ],
 "metadata": {
  "kernelspec": {
   "display_name": "Python 3",
   "language": "python",
   "name": "python3"
  },
  "language_info": {
   "codemirror_mode": {
    "name": "ipython",
    "version": 3
   },
   "file_extension": ".py",
   "mimetype": "text/x-python",
   "name": "python",
   "nbconvert_exporter": "python",
   "pygments_lexer": "ipython3",
   "version": "3.11.2"
  }
 },
 "nbformat": 4,
 "nbformat_minor": 2
}
