{
 "cells": [
  {
   "cell_type": "markdown",
   "metadata": {},
   "source": [
    "# Generic Imports"
   ]
  },
  {
   "cell_type": "code",
   "execution_count": 1,
   "metadata": {},
   "outputs": [],
   "source": [
    "import pandas as pd\n",
    "import numpy as np"
   ]
  },
  {
   "cell_type": "markdown",
   "metadata": {},
   "source": [
    "# Preprocessing"
   ]
  },
  {
   "cell_type": "code",
   "execution_count": 2,
   "metadata": {},
   "outputs": [
    {
     "name": "stdout",
     "output_type": "stream",
     "text": [
      "player.... complete\n",
      "type.... complete\n",
      "play_pattern.... complete\n",
      "possession_team.... complete\n",
      "position.... complete\n",
      "location.... complete\n",
      "under_pressure.... complete\n",
      "counterpress.... complete\n",
      "off_camera.... complete\n",
      "out.... complete\n",
      "carry.... complete\n",
      "ball_receipt.... complete\n",
      "shot.... complete\n",
      "dribble.... complete\n",
      "pass.... complete\n"
     ]
    }
   ],
   "source": [
    "from preprocessing import event_preprocessing\n",
    "from preprocessing import drop_unprocessed \n",
    "\n",
    "df = pd.read_json('data/15946.json')\n",
    "df = event_preprocessing(df)\n",
    "df = drop_unprocessed(df)"
   ]
  },
  {
   "cell_type": "markdown",
   "metadata": {},
   "source": [
    "# Metric 4"
   ]
  },
  {
   "cell_type": "code",
   "execution_count": null,
   "metadata": {},
   "outputs": [],
   "source": []
  }
 ],
 "metadata": {
  "kernelspec": {
   "display_name": "Python 3",
   "language": "python",
   "name": "python3"
  },
  "language_info": {
   "codemirror_mode": {
    "name": "ipython",
    "version": 3
   },
   "file_extension": ".py",
   "mimetype": "text/x-python",
   "name": "python",
   "nbconvert_exporter": "python",
   "pygments_lexer": "ipython3",
   "version": "3.11.2"
  }
 },
 "nbformat": 4,
 "nbformat_minor": 2
}
